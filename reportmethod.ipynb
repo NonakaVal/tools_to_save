{
 "cells": [
  {
   "cell_type": "code",
   "execution_count": 194,
   "id": "0f23b647-5463-46de-b0c8-d4ece26e5282",
   "metadata": {},
   "outputs": [],
   "source": [
    "import pandas as pd"
   ]
  },
  {
   "cell_type": "code",
   "execution_count": 196,
   "id": "95e763a3-3485-4bc7-bfa1-724101273698",
   "metadata": {},
   "outputs": [
    {
     "data": {
      "text/html": [
       "<div>\n",
       "<style scoped>\n",
       "    .dataframe tbody tr th:only-of-type {\n",
       "        vertical-align: middle;\n",
       "    }\n",
       "\n",
       "    .dataframe tbody tr th {\n",
       "        vertical-align: top;\n",
       "    }\n",
       "\n",
       "    .dataframe thead th {\n",
       "        text-align: right;\n",
       "    }\n",
       "</style>\n",
       "<table border=\"1\" class=\"dataframe\">\n",
       "  <thead>\n",
       "    <tr style=\"text-align: right;\">\n",
       "      <th></th>\n",
       "      <th>DATA VENDA</th>\n",
       "      <th>ITEM</th>\n",
       "      <th>QUANTIDADE</th>\n",
       "      <th>CATEGORIA</th>\n",
       "      <th>STATUS</th>\n",
       "      <th>VALOR</th>\n",
       "      <th>PAGO</th>\n",
       "    </tr>\n",
       "  </thead>\n",
       "  <tbody>\n",
       "    <tr>\n",
       "      <th>0</th>\n",
       "      <td>26/11/24</td>\n",
       "      <td>Xbox One Gears</td>\n",
       "      <td>1</td>\n",
       "      <td>Console</td>\n",
       "      <td>Enviado</td>\n",
       "      <td>R$ 3.350,00</td>\n",
       "      <td>R$ 3.350,00</td>\n",
       "    </tr>\n",
       "    <tr>\n",
       "      <th>1</th>\n",
       "      <td>26/11/24</td>\n",
       "      <td>PS4 Pro Spider Man</td>\n",
       "      <td>1</td>\n",
       "      <td>Console</td>\n",
       "      <td>Reservado</td>\n",
       "      <td>R$ 3.750,00</td>\n",
       "      <td>NaN</td>\n",
       "    </tr>\n",
       "  </tbody>\n",
       "</table>\n",
       "</div>"
      ],
      "text/plain": [
       "  DATA VENDA                ITEM  QUANTIDADE CATEGORIA     STATUS  \\\n",
       "0   26/11/24      Xbox One Gears           1   Console    Enviado   \n",
       "1   26/11/24  PS4 Pro Spider Man           1   Console  Reservado   \n",
       "\n",
       "         VALOR         PAGO  \n",
       "0  R$ 3.350,00  R$ 3.350,00  \n",
       "1  R$ 3.750,00          NaN  "
      ]
     },
     "execution_count": 196,
     "metadata": {},
     "output_type": "execute_result"
    }
   ],
   "source": [
    "df = pd.read_csv(\"INVENTARIOTHIAGO - Página16.csv\")\n",
    "df.head(2)"
   ]
  },
  {
   "cell_type": "code",
   "execution_count": 198,
   "id": "5d89d3cf-df35-4b9c-8d86-e291c4d65086",
   "metadata": {},
   "outputs": [
    {
     "data": {
      "text/plain": [
       "Index(['DATA VENDA', 'ITEM', 'QUANTIDADE', 'CATEGORIA', 'STATUS', 'VALOR',\n",
       "       'PAGO'],\n",
       "      dtype='object')"
      ]
     },
     "execution_count": 198,
     "metadata": {},
     "output_type": "execute_result"
    }
   ],
   "source": [
    "df.columns"
   ]
  },
  {
   "cell_type": "code",
   "execution_count": 200,
   "id": "7939817e-2af9-446f-8cff-90b5a751a557",
   "metadata": {
    "jupyter": {
     "source_hidden": true
    }
   },
   "outputs": [],
   "source": [
    "# Cleaning\n",
    "def clean_currency(column):\n",
    "    return column.str.replace('R$', '', regex=False).str.replace(',00', '', regex=False).str.replace('.', '', regex=False).str.strip()\n",
    "\n",
    "# Aplicando a função nas colunas 'VALOR' e 'PAGO'\n",
    "df['VALOR'] = clean_currency(df['VALOR'])\n",
    "df['PAGO'] = clean_currency(df['PAGO'])\n",
    "df[\"PAGO\"] =  df[\"PAGO\"].fillna(0)\n",
    "df['VALOR'] = df['VALOR'].astype(int)\n",
    "df['PAGO'] = df['PAGO'].astype(int)\n",
    "df['DATA VENDA'] = pd.to_datetime(df['DATA VENDA'], format=\"%d/%m/%y\")"
   ]
  },
  {
   "cell_type": "code",
   "execution_count": 202,
   "id": "cb0f9a17-c760-442b-b7c3-8a9343f2fc8b",
   "metadata": {},
   "outputs": [
    {
     "name": "stdout",
     "output_type": "stream",
     "text": [
      "<class 'pandas.core.frame.DataFrame'>\n",
      "RangeIndex: 15 entries, 0 to 14\n",
      "Data columns (total 7 columns):\n",
      " #   Column      Non-Null Count  Dtype         \n",
      "---  ------      --------------  -----         \n",
      " 0   DATA VENDA  15 non-null     datetime64[ns]\n",
      " 1   ITEM        15 non-null     object        \n",
      " 2   QUANTIDADE  15 non-null     int64         \n",
      " 3   CATEGORIA   15 non-null     object        \n",
      " 4   STATUS      15 non-null     object        \n",
      " 5   VALOR       15 non-null     int64         \n",
      " 6   PAGO        15 non-null     int64         \n",
      "dtypes: datetime64[ns](1), int64(3), object(3)\n",
      "memory usage: 972.0+ bytes\n"
     ]
    }
   ],
   "source": [
    "df.info()"
   ]
  },
  {
   "cell_type": "code",
   "execution_count": 204,
   "id": "d0bdbfbc-5596-47bd-84b3-c588a10857bd",
   "metadata": {},
   "outputs": [
    {
     "name": "stdout",
     "output_type": "stream",
     "text": [
      "Soma total dos itens vendidos 16\n"
     ]
    }
   ],
   "source": [
    "qtd = df['QUANTIDADE'].sum()\n",
    "print(f\"Soma total dos itens vendidos {qtd}\")"
   ]
  },
  {
   "cell_type": "code",
   "execution_count": 206,
   "id": "3a148fea-c97c-428a-a5ae-77f462bb9a6a",
   "metadata": {},
   "outputs": [
    {
     "name": "stdout",
     "output_type": "stream",
     "text": [
      "total de faturamento R$:64145,00\n",
      "total de recebido R$:30295,00\n",
      "total de restante R$:33850,00\n"
     ]
    }
   ],
   "source": [
    "faturamento = df['VALOR'].sum()\n",
    "recebido = df['PAGO'].sum()\n",
    "restante = faturamento - recebido\n",
    "\n",
    "print(f\"total de faturamento R$:{faturamento},00\")\n",
    "print(f\"total de recebido R$:{recebido},00\")\n",
    "print(f\"total de restante R$:{restante},00\")\n"
   ]
  },
  {
   "cell_type": "code",
   "execution_count": 210,
   "id": "c746cf5e-3da8-4cd2-90ed-c94d8376347d",
   "metadata": {},
   "outputs": [
    {
     "data": {
      "text/html": [
       "<div>\n",
       "<style scoped>\n",
       "    .dataframe tbody tr th:only-of-type {\n",
       "        vertical-align: middle;\n",
       "    }\n",
       "\n",
       "    .dataframe tbody tr th {\n",
       "        vertical-align: top;\n",
       "    }\n",
       "\n",
       "    .dataframe thead th {\n",
       "        text-align: right;\n",
       "    }\n",
       "</style>\n",
       "<table border=\"1\" class=\"dataframe\">\n",
       "  <thead>\n",
       "    <tr style=\"text-align: right;\">\n",
       "      <th></th>\n",
       "      <th>Descrição</th>\n",
       "      <th>Valor</th>\n",
       "    </tr>\n",
       "  </thead>\n",
       "  <tbody>\n",
       "    <tr>\n",
       "      <th>0</th>\n",
       "      <td>Faturamento Total</td>\n",
       "      <td>R$ 64.145,00</td>\n",
       "    </tr>\n",
       "    <tr>\n",
       "      <th>1</th>\n",
       "      <td>Total Recebido</td>\n",
       "      <td>R$ 30.295,00</td>\n",
       "    </tr>\n",
       "    <tr>\n",
       "      <th>2</th>\n",
       "      <td>Total Restante</td>\n",
       "      <td>R$ 33.850,00</td>\n",
       "    </tr>\n",
       "  </tbody>\n",
       "</table>\n",
       "</div>"
      ],
      "text/plain": [
       "           Descrição         Valor\n",
       "0  Faturamento Total  R$ 64.145,00\n",
       "1     Total Recebido  R$ 30.295,00\n",
       "2     Total Restante  R$ 33.850,00"
      ]
     },
     "execution_count": 210,
     "metadata": {},
     "output_type": "execute_result"
    }
   ],
   "source": [
    "resumo_df = pd.DataFrame({\n",
    "    \"Descrição\": [\"Faturamento Total\", \"Total Recebido\", \"Total Restante\"],\n",
    "    \"Valor\": [faturamento, recebido, restante]\n",
    "})\n",
    "resumo_df['Valor'] = resumo_df['Valor'].apply(lambda x: f\"R$ {x:,.2f}\".replace(',', 'X').replace('.', ',').replace('X', '.'))\n",
    "resumo_df"
   ]
  },
  {
   "cell_type": "code",
   "execution_count": 218,
   "id": "1faf2b90-37e0-4f6f-9d90-d320a40a4ef5",
   "metadata": {},
   "outputs": [
    {
     "data": {
      "text/html": [
       "<div>\n",
       "<style scoped>\n",
       "    .dataframe tbody tr th:only-of-type {\n",
       "        vertical-align: middle;\n",
       "    }\n",
       "\n",
       "    .dataframe tbody tr th {\n",
       "        vertical-align: top;\n",
       "    }\n",
       "\n",
       "    .dataframe thead th {\n",
       "        text-align: right;\n",
       "    }\n",
       "</style>\n",
       "<table border=\"1\" class=\"dataframe\">\n",
       "  <thead>\n",
       "    <tr style=\"text-align: right;\">\n",
       "      <th></th>\n",
       "      <th>CATEGORIA</th>\n",
       "      <th>QUANTIDADE</th>\n",
       "      <th>VALOR</th>\n",
       "    </tr>\n",
       "  </thead>\n",
       "  <tbody>\n",
       "    <tr>\n",
       "      <th>0</th>\n",
       "      <td>Console</td>\n",
       "      <td>8</td>\n",
       "      <td>R$ 43.950,00</td>\n",
       "    </tr>\n",
       "    <tr>\n",
       "      <th>1</th>\n",
       "      <td>Controle</td>\n",
       "      <td>4</td>\n",
       "      <td>R$ 11.895,00</td>\n",
       "    </tr>\n",
       "    <tr>\n",
       "      <th>2</th>\n",
       "      <td>Jogo Edição</td>\n",
       "      <td>4</td>\n",
       "      <td>R$ 8.300,00</td>\n",
       "    </tr>\n",
       "  </tbody>\n",
       "</table>\n",
       "</div>"
      ],
      "text/plain": [
       "     CATEGORIA  QUANTIDADE         VALOR\n",
       "0      Console           8  R$ 43.950,00\n",
       "1     Controle           4  R$ 11.895,00\n",
       "2  Jogo Edição           4   R$ 8.300,00"
      ]
     },
     "execution_count": 218,
     "metadata": {},
     "output_type": "execute_result"
    }
   ],
   "source": [
    "bycategory = df.groupby(\"CATEGORIA\")[[\"QUANTIDADE\",\"VALOR\"]].sum()\n",
    "bycategory['VALOR'] = bycategory['VALOR'].apply(lambda x: f\"R$ {x:,.2f}\".replace(',', 'X').replace('.', ',').replace('X', '.'))\n",
    "bycategory = bycategory.reset_index()\n",
    "bycategory"
   ]
  },
  {
   "cell_type": "code",
   "execution_count": 222,
   "id": "d6caa4b5-ad7e-4af0-bd88-9da8e949c543",
   "metadata": {},
   "outputs": [
    {
     "data": {
      "text/html": [
       "<div>\n",
       "<style scoped>\n",
       "    .dataframe tbody tr th:only-of-type {\n",
       "        vertical-align: middle;\n",
       "    }\n",
       "\n",
       "    .dataframe tbody tr th {\n",
       "        vertical-align: top;\n",
       "    }\n",
       "\n",
       "    .dataframe thead th {\n",
       "        text-align: right;\n",
       "    }\n",
       "</style>\n",
       "<table border=\"1\" class=\"dataframe\">\n",
       "  <thead>\n",
       "    <tr style=\"text-align: right;\">\n",
       "      <th></th>\n",
       "      <th>DATA VENDA</th>\n",
       "      <th>QUANTIDADE</th>\n",
       "      <th>VALOR</th>\n",
       "    </tr>\n",
       "  </thead>\n",
       "  <tbody>\n",
       "    <tr>\n",
       "      <th>0</th>\n",
       "      <td>2024-11-26</td>\n",
       "      <td>10</td>\n",
       "      <td>R$ 52.550,00</td>\n",
       "    </tr>\n",
       "    <tr>\n",
       "      <th>1</th>\n",
       "      <td>2024-11-27</td>\n",
       "      <td>2</td>\n",
       "      <td>R$ 1.650,00</td>\n",
       "    </tr>\n",
       "    <tr>\n",
       "      <th>2</th>\n",
       "      <td>2024-11-29</td>\n",
       "      <td>1</td>\n",
       "      <td>R$ 2.500,00</td>\n",
       "    </tr>\n",
       "    <tr>\n",
       "      <th>3</th>\n",
       "      <td>2024-12-03</td>\n",
       "      <td>3</td>\n",
       "      <td>R$ 7.445,00</td>\n",
       "    </tr>\n",
       "  </tbody>\n",
       "</table>\n",
       "</div>"
      ],
      "text/plain": [
       "  DATA VENDA  QUANTIDADE         VALOR\n",
       "0 2024-11-26          10  R$ 52.550,00\n",
       "1 2024-11-27           2   R$ 1.650,00\n",
       "2 2024-11-29           1   R$ 2.500,00\n",
       "3 2024-12-03           3   R$ 7.445,00"
      ]
     },
     "execution_count": 222,
     "metadata": {},
     "output_type": "execute_result"
    }
   ],
   "source": [
    "bydate = df.groupby(\"DATA VENDA\")[[\"QUANTIDADE\",\"VALOR\"]].sum()\n",
    "bydate['VALOR'] = bydate['VALOR'].apply(lambda x: f\"R$ {x:,.2f}\".replace(',', 'X').replace('.', ',').replace('X', '.'))\n",
    "bydate = bydate.reset_index()\n",
    "bydate"
   ]
  },
  {
   "cell_type": "code",
   "execution_count": 224,
   "id": "fc6ff642-5972-4ed0-b6b7-f13523804a03",
   "metadata": {},
   "outputs": [
    {
     "data": {
      "text/html": [
       "<div>\n",
       "<style scoped>\n",
       "    .dataframe tbody tr th:only-of-type {\n",
       "        vertical-align: middle;\n",
       "    }\n",
       "\n",
       "    .dataframe tbody tr th {\n",
       "        vertical-align: top;\n",
       "    }\n",
       "\n",
       "    .dataframe thead th {\n",
       "        text-align: right;\n",
       "    }\n",
       "</style>\n",
       "<table border=\"1\" class=\"dataframe\">\n",
       "  <thead>\n",
       "    <tr style=\"text-align: right;\">\n",
       "      <th></th>\n",
       "      <th>STATUS</th>\n",
       "      <th>QUANTIDADE</th>\n",
       "      <th>VALOR</th>\n",
       "    </tr>\n",
       "  </thead>\n",
       "  <tbody>\n",
       "    <tr>\n",
       "      <th>0</th>\n",
       "      <td>Enviado</td>\n",
       "      <td>5</td>\n",
       "      <td>R$ 24.250,00</td>\n",
       "    </tr>\n",
       "    <tr>\n",
       "      <th>1</th>\n",
       "      <td>Pago</td>\n",
       "      <td>2</td>\n",
       "      <td>R$ 4.545,00</td>\n",
       "    </tr>\n",
       "    <tr>\n",
       "      <th>2</th>\n",
       "      <td>Parcialmente Pago</td>\n",
       "      <td>1</td>\n",
       "      <td>R$ 2.500,00</td>\n",
       "    </tr>\n",
       "    <tr>\n",
       "      <th>3</th>\n",
       "      <td>Reservado</td>\n",
       "      <td>8</td>\n",
       "      <td>R$ 32.850,00</td>\n",
       "    </tr>\n",
       "  </tbody>\n",
       "</table>\n",
       "</div>"
      ],
      "text/plain": [
       "              STATUS  QUANTIDADE         VALOR\n",
       "0            Enviado           5  R$ 24.250,00\n",
       "1               Pago           2   R$ 4.545,00\n",
       "2  Parcialmente Pago           1   R$ 2.500,00\n",
       "3          Reservado           8  R$ 32.850,00"
      ]
     },
     "execution_count": 224,
     "metadata": {},
     "output_type": "execute_result"
    }
   ],
   "source": [
    "bystats = df.groupby(\"STATUS\")[[\"QUANTIDADE\", \"VALOR\"]].sum()\n",
    "bystats['VALOR'] = bystats['VALOR'].apply(lambda x: f\"R$ {x:,.2f}\".replace(',', 'X').replace('.', ',').replace('X', '.'))\n",
    "bystats = bystats.reset_index()\n",
    "bystats"
   ]
  },
  {
   "cell_type": "code",
   "execution_count": 226,
   "id": "f3440ade-f38f-4e8e-857f-fcce6d813c29",
   "metadata": {},
   "outputs": [],
   "source": [
    "# Exportar múltiplos dataframes para um único arquivo Excel\n",
    "with pd.ExcelWriter(\"reportmethodoutput.xlsx\", engine='openpyxl') as writer:\n",
    "    df.to_excel(writer, sheet_name='listadevenda', index=False)\n",
    "    resumo_df.to_excel(writer, sheet_name='Faturamento', index=False)\n",
    "    bycategory.to_excel(writer, sheet_name='Categorias', index=False)\n",
    "    bystats.to_excel(writer, sheet_name='status', index=False)\n",
    "    bydate.to_excel(writer, sheet_name='data', index=False)\n",
    "\n"
   ]
  },
  {
   "cell_type": "code",
   "execution_count": 257,
   "id": "f4adc247-a794-4eb0-ba0c-95bb36c3b0cc",
   "metadata": {},
   "outputs": [],
   "source": [
    "df = pd.read_csv(\"resumoreportthiago.xlsx - Página1.csv\")"
   ]
  },
  {
   "cell_type": "code",
   "execution_count": 259,
   "id": "ab8ec296-dda5-4d87-8b9d-50ec18e02cb0",
   "metadata": {},
   "outputs": [
    {
     "data": {
      "text/html": [
       "<div>\n",
       "<style scoped>\n",
       "    .dataframe tbody tr th:only-of-type {\n",
       "        vertical-align: middle;\n",
       "    }\n",
       "\n",
       "    .dataframe tbody tr th {\n",
       "        vertical-align: top;\n",
       "    }\n",
       "\n",
       "    .dataframe thead th {\n",
       "        text-align: right;\n",
       "    }\n",
       "</style>\n",
       "<table border=\"1\" class=\"dataframe\">\n",
       "  <thead>\n",
       "    <tr style=\"text-align: right;\">\n",
       "      <th></th>\n",
       "      <th>CATEGORIA</th>\n",
       "      <th>NOVOS</th>\n",
       "      <th>ABERTOS</th>\n",
       "      <th>TOTAL</th>\n",
       "    </tr>\n",
       "  </thead>\n",
       "  <tbody>\n",
       "    <tr>\n",
       "      <th>0</th>\n",
       "      <td>Consoles</td>\n",
       "      <td>6</td>\n",
       "      <td>16</td>\n",
       "      <td>22</td>\n",
       "    </tr>\n",
       "    <tr>\n",
       "      <th>1</th>\n",
       "      <td>Controles</td>\n",
       "      <td>12</td>\n",
       "      <td>5</td>\n",
       "      <td>17</td>\n",
       "    </tr>\n",
       "    <tr>\n",
       "      <th>2</th>\n",
       "      <td>Jogos e Edições</td>\n",
       "      <td>32</td>\n",
       "      <td>60</td>\n",
       "      <td>92</td>\n",
       "    </tr>\n",
       "    <tr>\n",
       "      <th>3</th>\n",
       "      <td>Outros</td>\n",
       "      <td>0</td>\n",
       "      <td>2</td>\n",
       "      <td>2</td>\n",
       "    </tr>\n",
       "  </tbody>\n",
       "</table>\n",
       "</div>"
      ],
      "text/plain": [
       "         CATEGORIA  NOVOS  ABERTOS  TOTAL\n",
       "0         Consoles      6       16     22\n",
       "1        Controles     12        5     17\n",
       "2  Jogos e Edições     32       60     92\n",
       "3           Outros      0        2      2"
      ]
     },
     "execution_count": 259,
     "metadata": {},
     "output_type": "execute_result"
    }
   ],
   "source": [
    "df"
   ]
  },
  {
   "cell_type": "code",
   "execution_count": 261,
   "id": "09ce50d8-f7ea-41a3-b299-b19e5ee0e925",
   "metadata": {},
   "outputs": [
    {
     "name": "stdout",
     "output_type": "stream",
     "text": [
      "Tabela com Percentuais:\n",
      "         CATEGORIA  NOVOS  ABERTOS  TOTAL  PERC_NOVOS  PERC_ABERTOS  \\\n",
      "0         Consoles      6       16     22        12.0     19.277108   \n",
      "1        Controles     12        5     17        24.0      6.024096   \n",
      "2  Jogos e Edições     32       60     92        64.0     72.289157   \n",
      "3           Outros      0        2      2         0.0      2.409639   \n",
      "\n",
      "   PERC_TOTAL  \n",
      "0   16.541353  \n",
      "1   12.781955  \n",
      "2   69.172932  \n",
      "3    1.503759  \n",
      "\n",
      "Totais Gerais:\n",
      "NOVOS       50\n",
      "ABERTOS     83\n",
      "TOTAL      133\n",
      "dtype: int64\n"
     ]
    }
   ],
   "source": [
    "totals = df[[\"NOVOS\", \"ABERTOS\", \"TOTAL\"]].sum()\n",
    "\n",
    "# Calculando percentuais por categoria\n",
    "df[\"PERC_NOVOS\"] = (df[\"NOVOS\"] / totals[\"NOVOS\"]) * 100\n",
    "df[\"PERC_ABERTOS\"] = (df[\"ABERTOS\"] / totals[\"ABERTOS\"]) * 100\n",
    "df[\"PERC_TOTAL\"] = (df[\"TOTAL\"] / totals[\"TOTAL\"]) * 100\n",
    "\n",
    "# Exibindo o DataFrame atualizado\n",
    "print(\"Tabela com Percentuais:\")\n",
    "print(df)\n",
    "\n",
    "# Exibindo totais gerais\n",
    "print(\"\\nTotais Gerais:\")\n",
    "print(totals)"
   ]
  },
  {
   "cell_type": "code",
   "execution_count": null,
   "id": "67f48341-dec1-4971-ac37-ad6bcc785838",
   "metadata": {},
   "outputs": [],
   "source": []
  },
  {
   "cell_type": "code",
   "execution_count": 245,
   "id": "c7ef8541-fec9-4a2f-befc-80ac6de0183e",
   "metadata": {},
   "outputs": [
    {
     "data": {
      "text/plain": [
       "Novos       50\n",
       "Abertos     83\n",
       "Total      133\n",
       "dtype: int64"
      ]
     },
     "execution_count": 245,
     "metadata": {},
     "output_type": "execute_result"
    }
   ],
   "source": [
    "grouped = df.groupby(\"CATEGORIA\").sum()\n",
    "totals = grouped.sum()\n",
    "totals"
   ]
  },
  {
   "cell_type": "code",
   "execution_count": 255,
   "id": "0bb48dd0-2776-4286-8aab-e478b20b350e",
   "metadata": {},
   "outputs": [
    {
     "data": {
      "text/html": [
       "<div>\n",
       "<style scoped>\n",
       "    .dataframe tbody tr th:only-of-type {\n",
       "        vertical-align: middle;\n",
       "    }\n",
       "\n",
       "    .dataframe tbody tr th {\n",
       "        vertical-align: top;\n",
       "    }\n",
       "\n",
       "    .dataframe thead th {\n",
       "        text-align: right;\n",
       "    }\n",
       "</style>\n",
       "<table border=\"1\" class=\"dataframe\">\n",
       "  <thead>\n",
       "    <tr style=\"text-align: right;\">\n",
       "      <th></th>\n",
       "      <th>Novos</th>\n",
       "      <th>Abertos</th>\n",
       "      <th>Total</th>\n",
       "      <th>PERC_QUANTIDADE</th>\n",
       "    </tr>\n",
       "    <tr>\n",
       "      <th>CATEGORIA</th>\n",
       "      <th></th>\n",
       "      <th></th>\n",
       "      <th></th>\n",
       "      <th></th>\n",
       "    </tr>\n",
       "  </thead>\n",
       "  <tbody>\n",
       "    <tr>\n",
       "      <th>Consoles</th>\n",
       "      <td>6</td>\n",
       "      <td>16</td>\n",
       "      <td>22</td>\n",
       "      <td>4.511</td>\n",
       "    </tr>\n",
       "    <tr>\n",
       "      <th>Controles</th>\n",
       "      <td>12</td>\n",
       "      <td>5</td>\n",
       "      <td>17</td>\n",
       "      <td>9.023</td>\n",
       "    </tr>\n",
       "    <tr>\n",
       "      <th>Jogos e Edições</th>\n",
       "      <td>32</td>\n",
       "      <td>60</td>\n",
       "      <td>92</td>\n",
       "      <td>24.060</td>\n",
       "    </tr>\n",
       "    <tr>\n",
       "      <th>Outros</th>\n",
       "      <td>0</td>\n",
       "      <td>2</td>\n",
       "      <td>2</td>\n",
       "      <td>0.000</td>\n",
       "    </tr>\n",
       "  </tbody>\n",
       "</table>\n",
       "</div>"
      ],
      "text/plain": [
       "                 Novos  Abertos  Total  PERC_QUANTIDADE\n",
       "CATEGORIA                                              \n",
       "Consoles             6       16     22            4.511\n",
       "Controles           12        5     17            9.023\n",
       "Jogos e Edições     32       60     92           24.060\n",
       "Outros               0        2      2            0.000"
      ]
     },
     "execution_count": 255,
     "metadata": {},
     "output_type": "execute_result"
    }
   ],
   "source": [
    "grouped[\"PERC_QUANTIDADE\"] = (grouped[\"Novos\"] / totals[\"Total\"]) * 100\n",
    "grouped.round(3)"
   ]
  },
  {
   "cell_type": "code",
   "execution_count": null,
   "id": "156ad845-3908-44b2-9700-576af8a47a1e",
   "metadata": {},
   "outputs": [],
   "source": []
  }
 ],
 "metadata": {
  "kernelspec": {
   "display_name": "Python 3 (ipykernel)",
   "language": "python",
   "name": "python3"
  },
  "language_info": {
   "codemirror_mode": {
    "name": "ipython",
    "version": 3
   },
   "file_extension": ".py",
   "mimetype": "text/x-python",
   "name": "python",
   "nbconvert_exporter": "python",
   "pygments_lexer": "ipython3",
   "version": "3.12.7"
  }
 },
 "nbformat": 4,
 "nbformat_minor": 5
}
