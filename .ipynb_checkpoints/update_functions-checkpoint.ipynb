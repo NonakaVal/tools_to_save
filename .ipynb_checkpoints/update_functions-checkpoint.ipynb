{
 "cells": [
  {
   "cell_type": "code",
   "execution_count": 3,
   "id": "09257328-6187-45b8-b3a8-fdc483185f9f",
   "metadata": {},
   "outputs": [],
   "source": [
    "import time\n",
    "import requests\n",
    "import pyshorteners\n",
    "from bs4 import BeautifulSoup\n",
    "from datetime import datetime\n",
    "import pandas as pd"
   ]
  },
  {
   "cell_type": "code",
   "execution_count": 5,
   "id": "8fa778d6-9e97-4e1c-9bb2-418be76ba0b5",
   "metadata": {
    "jupyter": {
     "source_hidden": true
    }
   },
   "outputs": [],
   "source": [
    "def load_data(path_excel, path_csv, sheet_name_value=2):\n",
    "    data_excel = pd.read_excel(path_excel, \n",
    "                                sheet_name= sheet_name_value, \n",
    "                                skiprows=range(1, 6))\n",
    "    data_excel['STATUS'] = data_excel['STATUS'].str.strip()\n",
    "    data_excel = data_excel.drop_duplicates(subset='ITEM_ID', keep='first')\n",
    "    data_excel =data_excel.drop(columns=['VARIATIONS' ,'VARIATION_ID'])\n",
    "    \n",
    "    data_csv = pd.read_csv(path_csv)\n",
    "\n",
    "    return data_excel, data_csv\n",
    "    "
   ]
  },
  {
   "cell_type": "code",
   "execution_count": 7,
   "id": "5e16f0d7-1a2d-4c42-8597-9fb3f8681a23",
   "metadata": {
    "jupyter": {
     "source_hidden": true
    }
   },
   "outputs": [],
   "source": [
    "def fill_sku_(df_with_sku, df_without_sku):\n",
    "    \"\"\"Preenche os SKUs em df_without_sku com base em df_with_sku (usando ITEM_ID como chave).\"\"\"\n",
    "    merged_data = df_without_sku.merge(df_with_sku[['ITEM_ID', 'SKU']], on='ITEM_ID', how='left', suffixes=('', '_from_df1'))\n",
    "    merged_data['SKU'] = merged_data['SKU_from_df1']\n",
    "    merged_data.drop(columns=['SKU_from_df1'], inplace=True)\n",
    "    return merged_data"
   ]
  },
  {
   "cell_type": "code",
   "execution_count": 9,
   "id": "38e9992d-8d7a-407c-9356-a69175b34358",
   "metadata": {
    "jupyter": {
     "source_hidden": true
    }
   },
   "outputs": [],
   "source": [
    "def update_product_skus(data):\n",
    "    \n",
    "    current_year_month = datetime.now().strftime(\"%y%m\")  # Ano e mês atual no formato \"yyMM\"\n",
    "    \n",
    "    # Preparando para rastrear informações adicionais sobre novos SKUs\n",
    "    new_skus_list = []\n",
    "    new_skus_details = []  # Lista para armazenar detalhes para novos SKUs incluindo ITEM_ID e TITLE\n",
    "\n",
    "    # Certifique-se de que CATEGORY_ID tenha 3 dígitos\n",
    "    data['CATEGORY_ID'] = data['CATEGORY_ID'].str.zfill(3)\n",
    "\n",
    "    # Dicionário para rastrear o contador por categoria e mês\n",
    "    category_counters = {}\n",
    "\n",
    "    for category_id in data['CATEGORY_ID'].unique():\n",
    "        category_mask = data['CATEGORY_ID'] == category_id\n",
    "\n",
    "        # Filtra os SKUs existentes dessa categoria e mês\n",
    "        existing_skus = data.loc[category_mask & data['SKU'].notna(), 'SKU']\n",
    "\n",
    "        # Verifica o ano/mês atual para a categoria\n",
    "        year_month = current_year_month\n",
    "\n",
    "        # Extraímos os contadores do SKU, considerando a categoria e mês\n",
    "        counters = existing_skus.str.extract(f\"^{category_id}-{year_month}-(\\\\d{{4}})$\")[0]\n",
    "        valid_counters = pd.to_numeric(counters, errors='coerce').dropna().astype(int)\n",
    "        \n",
    "        # Define o próximo contador, baseado no maior contador existente, ou inicia em 1\n",
    "        if not valid_counters.empty:\n",
    "            next_counter = valid_counters.max() + 1\n",
    "        else:\n",
    "            next_counter = 1\n",
    "\n",
    "        # Filtra os índices dos produtos sem SKU\n",
    "        null_skus_indices = data.index[category_mask & data['SKU'].isna()]\n",
    "        for idx in null_skus_indices:\n",
    "            # Gera um SKU único com base na categoria, ano/mês e o contador\n",
    "            new_sku = f\"{category_id}-{year_month}-{next_counter:04d}\"\n",
    "            data.at[idx, 'SKU'] = new_sku\n",
    "            new_skus_list.append(new_sku)\n",
    "            new_skus_details.append({\n",
    "                'TITLE': data.at[idx, 'TITLE'],\n",
    "                'SKU': new_sku,\n",
    "                'ITEM_ID': data.at[idx, 'ITEM_ID'],\n",
    "            })\n",
    "\n",
    "            # Incrementa o contador após gerar o SKU para o próximo\n",
    "            next_counter += 1\n",
    "\n",
    "    # Converte a lista de dicionários em DataFrame\n",
    "    new_skus_data = pd.DataFrame(new_skus_details)  # Agora inclui ITEM_ID e TITLE\n",
    "\n",
    "    return data, new_skus_data\n"
   ]
  },
  {
   "cell_type": "code",
   "execution_count": 11,
   "id": "aac2ecc9-9302-4248-9c8d-82530f434d97",
   "metadata": {
    "jupyter": {
     "source_hidden": true
    }
   },
   "outputs": [],
   "source": [
    "def get_links(data):\n",
    "    data['ITEM_LINK'] = data['ITEM_ID'].apply(\n",
    "        lambda x: f\"https://www.mercadolivre.com.br/anuncios/lista?filters=OMNI_ACTIVE|OMNI_INACTIVE|CHANNEL_NO_PROXIMITY_AND_NO_MP_MERCHANTS&page=1&search={x[3:]}\" if pd.notnull(x) else \"\")\n",
    "\n",
    "    data['URL'] = data.apply(\n",
    "        lambda row: f\"https://www.collectorsguardian.com.br/{row['ITEM_ID'][:3]}-{row['ITEM_ID'][3:]}-{row['TITLE'].replace(' ', '-').lower()}-_JM#item_id={row['ITEM_ID']}\", \n",
    "        axis=1)\n",
    "\n",
    "    return data"
   ]
  },
  {
   "cell_type": "code",
   "execution_count": 13,
   "id": "610ba1d6-2d16-4210-a6ad-95c841cb08a3",
   "metadata": {
    "jupyter": {
     "source_hidden": true
    }
   },
   "outputs": [],
   "source": [
    "def extract_first_src(url):\n",
    "    try:\n",
    "        response = requests.get(url)\n",
    "        response.raise_for_status()\n",
    "\n",
    "        soup = BeautifulSoup(response.text, 'html.parser')\n",
    "    \n",
    "        img_tag = soup.find('img', class_='ui-pdp-image ui-pdp-gallery__figure__image')\n",
    "        if img_tag and 'src' in img_tag.attrs:\n",
    "            return img_tag['src']\n",
    "        return None  # Caso a tag ou atributo não seja encontrado\n",
    "    except Exception as e:\n",
    "        print(f\"Erro ao processar {url}: {e}\")\n",
    "        return None\n",
    "\n",
    "        \n",
    "# data['img_src'] = data['URL'].apply(extract_first_src)\n",
    "\n"
   ]
  },
  {
   "cell_type": "code",
   "execution_count": null,
   "id": "ddd64e79-ee75-4eb0-9902-0e626c15591c",
   "metadata": {},
   "outputs": [],
   "source": []
  },
  {
   "cell_type": "code",
   "execution_count": null,
   "id": "e3ec67b4-02df-49d7-8e4e-58a509ee0c2d",
   "metadata": {},
   "outputs": [],
   "source": []
  }
 ],
 "metadata": {
  "kernelspec": {
   "display_name": "Python 3 (ipykernel)",
   "language": "python",
   "name": "python3"
  },
  "language_info": {
   "codemirror_mode": {
    "name": "ipython",
    "version": 3
   },
   "file_extension": ".py",
   "mimetype": "text/x-python",
   "name": "python",
   "nbconvert_exporter": "python",
   "pygments_lexer": "ipython3",
   "version": "3.12.7"
  }
 },
 "nbformat": 4,
 "nbformat_minor": 5
}
